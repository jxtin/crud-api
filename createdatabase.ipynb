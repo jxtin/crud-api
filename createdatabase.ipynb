{
 "cells": [
  {
   "cell_type": "code",
   "execution_count": 1,
   "metadata": {},
   "outputs": [
    {
     "data": {
      "text/plain": [
       "True"
      ]
     },
     "execution_count": 1,
     "metadata": {},
     "output_type": "execute_result"
    }
   ],
   "source": [
    "from dotenv import load_dotenv\n",
    "import os\n",
    "load_dotenv()\n"
   ]
  },
  {
   "cell_type": "code",
   "execution_count": 6,
   "metadata": {},
   "outputs": [],
   "source": [
    "MONGO_ID = os.getenv(\"MONGO_ID\")\n",
    "MONGO_PASSWORD = os.getenv(\"MONGO_PASSWORD\")"
   ]
  },
  {
   "cell_type": "code",
   "execution_count": 7,
   "metadata": {},
   "outputs": [],
   "source": [
    "from pymongo import MongoClient\n",
    "from pymongo.database import Database"
   ]
  },
  {
   "cell_type": "code",
   "execution_count": 8,
   "metadata": {},
   "outputs": [],
   "source": [
    "connection_url=\"mongodb+srv://\" + MONGO_ID + \":\" + MONGO_PASSWORD +\"@jxtin-zocket-books.2i2npo7.mongodb.net/?retryWrites=true&w=majority\""
   ]
  },
  {
   "cell_type": "code",
   "execution_count": 9,
   "metadata": {},
   "outputs": [],
   "source": [
    "client = MongoClient(connection_url)"
   ]
  },
  {
   "cell_type": "code",
   "execution_count": 10,
   "metadata": {},
   "outputs": [],
   "source": [
    "db = client.get_database('jxtin-zocket-books')"
   ]
  },
  {
   "cell_type": "code",
   "execution_count": 11,
   "metadata": {},
   "outputs": [
    {
     "data": {
      "text/plain": [
       "[]"
      ]
     },
     "execution_count": 11,
     "metadata": {},
     "output_type": "execute_result"
    }
   ],
   "source": [
    "db.list_collection_names()"
   ]
  },
  {
   "cell_type": "code",
   "execution_count": 12,
   "metadata": {},
   "outputs": [
    {
     "data": {
      "text/plain": [
       "Collection(Database(MongoClient(host=['ac-m1chqew-shard-00-00.2i2npo7.mongodb.net:27017', 'ac-m1chqew-shard-00-02.2i2npo7.mongodb.net:27017', 'ac-m1chqew-shard-00-01.2i2npo7.mongodb.net:27017'], document_class=dict, tz_aware=False, connect=True, retrywrites=True, w='majority', authsource='admin', replicaset='atlas-stp1rt-shard-0', tls=True), 'jxtin-zocket-books'), 'books')"
      ]
     },
     "execution_count": 12,
     "metadata": {},
     "output_type": "execute_result"
    }
   ],
   "source": [
    "db.create_collection('books')"
   ]
  },
  {
   "cell_type": "code",
   "execution_count": 13,
   "metadata": {},
   "outputs": [
    {
     "data": {
      "text/plain": [
       "['books']"
      ]
     },
     "execution_count": 13,
     "metadata": {},
     "output_type": "execute_result"
    }
   ],
   "source": [
    "db.list_collection_names()"
   ]
  },
  {
   "cell_type": "code",
   "execution_count": 14,
   "metadata": {},
   "outputs": [],
   "source": [
    "books=[{\n",
    "    \"bookid\": 1,\n",
    "    \"title\": \"Harry Potter and the Philosopher's Stone\",\n",
    "    \"author\": \"J.K. Rowling\",\n",
    "    \"year\": 1997\n",
    "},\n",
    "{\n",
    "    \"bookid\": 2,\n",
    "    \"title\": \"Harry Potter and the Chamber of Secrets\",\n",
    "    \"author\": \"J.K. Rowling\",\n",
    "    \"year\": 1998\n",
    "},\n",
    "{\n",
    "    \"bookid\": 3,\n",
    "    \"title\": \"Harry Potter and the Prisoner of Azkaban\",\n",
    "    \"author\": \"J.K. Rowling\",\n",
    "    \"year\": 1999\n",
    "},\n",
    "{\n",
    "    \"bookid\": 4,\n",
    "    \"title\": \"Harry Potter and the Goblet of Fire\",\n",
    "    \"author\": \"J.K. Rowling\",\n",
    "    \"year\": 2000\n",
    "},\n",
    "{\n",
    "    \"bookid\": 5,\n",
    "    \"title\": \"Harry Potter and the Order of the Phoenix\",\n",
    "    \"author\": \"J.K. Rowling\",\n",
    "    \"year\": 2003\n",
    "},\n",
    "{\n",
    "    \"bookid\": 6,\n",
    "    \"title\": \"Harry Potter and the Half-Blood Prince\",\n",
    "    \"author\": \"J.K. Rowling\",\n",
    "    \"year\": 2005\n",
    "},\n",
    "{\n",
    "    \"bookid\": 7,\n",
    "    \"title\": \"Harry Potter and the Deathly Hallows\",\n",
    "    \"author\": \"J.K. Rowling\",\n",
    "    \"year\": 2007\n",
    "},\n",
    "{\n",
    "    \"bookid\": 8,\n",
    "    \"title\": \"The Hobbit\",\n",
    "    \"author\": \"J.R.R. Tolkien\",\n",
    "    \"year\": 1937\n",
    "},\n",
    "{\n",
    "    \"bookid\": 9,\n",
    "    \"title\": \"The Fellowship of the Ring\",\n",
    "    \"author\": \"J.R.R. Tolkien\",\n",
    "    \"year\": 1954\n",
    "},\n",
    "{\n",
    "    \"bookid\": 10,\n",
    "    \"title\": \"The Two Towers\",\n",
    "    \"author\": \"J.R.R. Tolkien\",\n",
    "    \"year\": 1954\n",
    "}]\n"
   ]
  },
  {
   "cell_type": "code",
   "execution_count": 15,
   "metadata": {},
   "outputs": [
    {
     "data": {
      "text/plain": [
       "<pymongo.results.InsertManyResult at 0x27aa7428370>"
      ]
     },
     "execution_count": 15,
     "metadata": {},
     "output_type": "execute_result"
    }
   ],
   "source": [
    "# use insert_many to insert multiple documents\n",
    "db.books.insert_many(books)"
   ]
  },
  {
   "cell_type": "code",
   "execution_count": 16,
   "metadata": {},
   "outputs": [
    {
     "data": {
      "text/plain": [
       "{'_id': ObjectId('63f64cd2a2e0d48875135b81'),\n",
       " 'bookid': 1,\n",
       " 'title': \"Harry Potter and the Philosopher's Stone\",\n",
       " 'author': 'J.K. Rowling',\n",
       " 'year': 1997}"
      ]
     },
     "execution_count": 16,
     "metadata": {},
     "output_type": "execute_result"
    }
   ],
   "source": [
    "db.books.find_one()"
   ]
  },
  {
   "cell_type": "code",
   "execution_count": null,
   "metadata": {},
   "outputs": [],
   "source": []
  }
 ],
 "metadata": {
  "kernelspec": {
   "display_name": "Python 3",
   "language": "python",
   "name": "python3"
  },
  "language_info": {
   "codemirror_mode": {
    "name": "ipython",
    "version": 3
   },
   "file_extension": ".py",
   "mimetype": "text/x-python",
   "name": "python",
   "nbconvert_exporter": "python",
   "pygments_lexer": "ipython3",
   "version": "3.9.6"
  },
  "orig_nbformat": 4,
  "vscode": {
   "interpreter": {
    "hash": "2ab65c5e609e59afd614902b05534a074ef6aecdfc68b162c38b6bc70ce62056"
   }
  }
 },
 "nbformat": 4,
 "nbformat_minor": 2
}
